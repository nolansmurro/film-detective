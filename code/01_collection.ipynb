{
 "cells": [
  {
   "cell_type": "code",
   "execution_count": 3,
   "id": "438b4c10-3f6a-44eb-9059-4b52603b7576",
   "metadata": {
    "tags": []
   },
   "outputs": [],
   "source": [
    "import flickrapi\n",
    "import requests\n",
    "import os\n",
    "import config\n",
    "import logging"
   ]
  },
  {
   "cell_type": "code",
   "execution_count": 4,
   "id": "5b729f28-cb31-4526-a2f3-83f0996bdf46",
   "metadata": {
    "tags": []
   },
   "outputs": [],
   "source": [
    "flickr = flickrapi.FlickrAPI(config.api_key, config.api_secret, format='parsed-json')"
   ]
  },
  {
   "cell_type": "code",
   "execution_count": 5,
   "id": "ec9a008f-9c16-455f-a9ae-f54744bf06db",
   "metadata": {
    "tags": []
   },
   "outputs": [],
   "source": [
    "logging.basicConfig(filename='logs/collection_log.log', \n",
    "                    level=logging.INFO,\n",
    "                    format='%(asctime)s %(levelname)s:%(message)s')"
   ]
  },
  {
   "cell_type": "code",
   "execution_count": 6,
   "id": "fc8e8e6c-39b3-4cff-a1fa-7ae442fad1ab",
   "metadata": {
    "tags": []
   },
   "outputs": [],
   "source": [
    "def get_photo_sizes(photo_id):\n",
    "    try:\n",
    "        sizes = flickr.photos.getSizes(photo_id=photo_id)\n",
    "        return sizes['sizes']['size']\n",
    "    except flickrapi.exceptions.FlickrError as e:\n",
    "        if e.code == 500:\n",
    "            logging.error(f\"Error 500 encountered for photo ID {photo_id}. Skipping this photo.\")\n",
    "        return None"
   ]
  },
  {
   "cell_type": "code",
   "execution_count": 5,
   "id": "94da6153-cee5-423e-b23c-9607521f3448",
   "metadata": {
    "tags": []
   },
   "outputs": [],
   "source": [
    "# photo_id = '53364746727'\n",
    "# sizes = get_photo_sizes(photo_id)\n",
    "\n",
    "# if sizes:\n",
    "#     print(f\"Available sizes for photo ID {photo_id}:\")\n",
    "#     for size in sizes:\n",
    "#         print(f\"- Label: {size['label']}, Width: {size['width']}, Height: {size['height']}, Source: {size['source']}\")\n",
    "# else:\n",
    "#     print(\"No sizes available or error occurred.\")"
   ]
  },
  {
   "cell_type": "code",
   "execution_count": 7,
   "id": "2d673bd7-e690-454a-adf2-2f04db3da38e",
   "metadata": {
    "tags": []
   },
   "outputs": [],
   "source": [
    "def download_image(url, target_directory, filename):\n",
    "    try:\n",
    "        if not os.path.exists(target_directory):\n",
    "            os.makedirs(target_directory)\n",
    "    \n",
    "        filepath = os.path.join(target_directory, filename)\n",
    "    \n",
    "        response = requests.get(url)\n",
    "        if response.status_code == 200:\n",
    "            with open(filepath, 'wb') as file:\n",
    "                file.write(response.content)\n",
    "        else:\n",
    "            logging.warning(f\"Failed to download: {url}\")\n",
    "    except requests.exceptions.RequestException as e:\n",
    "        logging.error(f\"Error downloading {url}: {e}. Skipping this photo.\")"
   ]
  },
  {
   "cell_type": "code",
   "execution_count": 8,
   "id": "8691ef8c-a692-4254-b0c4-98093dbdf85a",
   "metadata": {
    "tags": []
   },
   "outputs": [],
   "source": [
    "downloaded_ids_file_path = 'logs/downloaded_ids.txt'"
   ]
  },
  {
   "cell_type": "code",
   "execution_count": 9,
   "id": "7670aabb-d490-40a5-84d5-fd6fbb7f4b6d",
   "metadata": {},
   "outputs": [],
   "source": [
    "def save_id(photo_id, file_path=downloaded_ids_file_path):\n",
    "    with open(file_path, 'a') as file:\n",
    "        file.write(photo_id + '\\n')"
   ]
  },
  {
   "cell_type": "code",
   "execution_count": 10,
   "id": "71923fc7-e4d3-4b8f-ba05-1d13874f128d",
   "metadata": {},
   "outputs": [],
   "source": [
    "def load_ids(file_path=downloaded_ids_file_path ):\n",
    "    try:\n",
    "        with open(file_path, 'r') as file:\n",
    "            return set(file.read().splitlines())\n",
    "    except FileNotFoundError:\n",
    "        return set()"
   ]
  },
  {
   "cell_type": "code",
   "execution_count": 11,
   "id": "c7571f27-51af-4559-ac47-6ec2a5cdb980",
   "metadata": {
    "tags": []
   },
   "outputs": [],
   "source": [
    "def collect_group_images(group_id, target_directory, size_label, max_images):\n",
    "    downloaded_ids = load_ids()\n",
    "    per_page = 500\n",
    "    page = 1\n",
    "    image_count = 0\n",
    "    file_count = 0\n",
    "    \n",
    "    while image_count < max_images:\n",
    "        photos = flickr.groups.pools.getPhotos(group_id=group_id, per_page=per_page, page=page)\n",
    "        photo_list = photos['photos']['photo']\n",
    "        \n",
    "        if not photo_list:\n",
    "            break\n",
    "        \n",
    "        for photo in photo_list:\n",
    "            photo_id = photo['id']\n",
    "            if photo_id in downloaded_ids:\n",
    "                continue\n",
    "                \n",
    "            sizes = get_photo_sizes(photo_id)\n",
    "            if sizes:\n",
    "                size_url = next((s['source'] for s in sizes if s['label'] == size_label), None)\n",
    "                if size_url:\n",
    "                    download_image(size_url, target_directory, photo['id'] + '.jpg')\n",
    "                    save_id(photo_id)\n",
    "                    image_count += 1\n",
    "                    file_count += 1\n",
    "                    \n",
    "                    if file_count % 1000 == 0:\n",
    "                        print(f\"Copied {file_count} files to {target_directory}\")\n",
    "            \n",
    "        page += 1"
   ]
  },
  {
   "cell_type": "code",
   "execution_count": 12,
   "id": "4c02893c-a752-4e54-88d9-5fde0ffa985e",
   "metadata": {
    "tags": []
   },
   "outputs": [],
   "source": [
    "def get_group_id(url):\n",
    "    response = flickr.urls.lookupGroup(url=url)\n",
    "    return response['group']['id']"
   ]
  },
  {
   "cell_type": "code",
   "execution_count": 11,
   "id": "f7211579-da86-4a46-b520-73a606d235da",
   "metadata": {
    "tags": []
   },
   "outputs": [],
   "source": [
    "# group_id_film = get_group_id('https://www.flickr.com/groups/filmdatabase/')"
   ]
  },
  {
   "cell_type": "code",
   "execution_count": 12,
   "id": "ac7d5366-4559-4614-8c64-1c085c05ac02",
   "metadata": {
    "tags": []
   },
   "outputs": [],
   "source": [
    "# collect_group_images(group_id_film, config.target_directory_film, 'Large 1600', 110200)"
   ]
  },
  {
   "cell_type": "code",
   "execution_count": 13,
   "id": "11652a2d-e52f-4f39-97cd-995b8dbd02ed",
   "metadata": {},
   "outputs": [],
   "source": [
    "group_id_digital = get_group_id('https://www.flickr.com/groups/digitalp/')"
   ]
  },
  {
   "cell_type": "code",
   "execution_count": 14,
   "id": "63bc4894-ebb0-4814-8b59-feccd3a52832",
   "metadata": {
    "tags": []
   },
   "outputs": [
    {
     "name": "stdout",
     "output_type": "stream",
     "text": [
      "Copied 1000 files to /Volumes/Elemental/DSI/film-detective-data/images/digital_photography_1600\n",
      "Copied 2000 files to /Volumes/Elemental/DSI/film-detective-data/images/digital_photography_1600\n"
     ]
    }
   ],
   "source": [
    "collect_group_images(group_id_digital, config.target_directory_digital, 'Large 1600', 30000)"
   ]
  }
 ],
 "metadata": {
  "kernelspec": {
   "display_name": "Python 3 (ipykernel)",
   "language": "python",
   "name": "python3"
  },
  "language_info": {
   "codemirror_mode": {
    "name": "ipython",
    "version": 3
   },
   "file_extension": ".py",
   "mimetype": "text/x-python",
   "name": "python",
   "nbconvert_exporter": "python",
   "pygments_lexer": "ipython3",
   "version": "3.11.5"
  }
 },
 "nbformat": 4,
 "nbformat_minor": 5
}
