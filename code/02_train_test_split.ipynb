{
 "cells": [
  {
   "cell_type": "code",
   "execution_count": 1,
   "id": "20f56039-645d-4460-a9a2-d1c695df04d6",
   "metadata": {
    "tags": []
   },
   "outputs": [],
   "source": [
    "import os\n",
    "import shutil\n",
    "import random\n",
    "import config\n",
    "from PIL import Image\n",
    "from image_preprocessing import crop_resize"
   ]
  },
  {
   "cell_type": "code",
   "execution_count": 2,
   "id": "4228478a-aa07-4f77-afef-390ae0775d63",
   "metadata": {},
   "outputs": [],
   "source": [
    "def create_subset_resize_and_split(source_dir, train_test_base_folder, category, size, n, test_ratio=0.2):\n",
    "    image_files = [f for f in os.listdir(source_dir) if f.lower().endswith(('.png', '.jpg', '.jpeg')) and not f.startswith('._')]\n",
    "    random.shuffle(image_files)\n",
    "    selected_files = image_files[:n]\n",
    "\n",
    "    split_index = int(len(selected_files) * (1 - test_ratio))\n",
    "\n",
    "    train_folder = os.path.join(train_test_base_folder, 'train', category)\n",
    "    test_folder = os.path.join(train_test_base_folder, 'test', category)\n",
    "\n",
    "    os.makedirs(train_folder, exist_ok=True)\n",
    "    os.makedirs(test_folder, exist_ok=True)\n",
    "    \n",
    "    file_counter = 0\n",
    "\n",
    "    for i, filename in enumerate(selected_files):\n",
    "        input_path = os.path.join(source_dir, filename)\n",
    "        output_path = os.path.join(train_folder if i < split_index else test_folder, filename)\n",
    "\n",
    "        try:\n",
    "            with Image.open(input_path) as image:\n",
    "                processed_image = crop_resize(image, size)\n",
    "                processed_image.save(output_path)\n",
    "            file_counter += 1\n",
    "            \n",
    "            if file_counter % 1000 == 0:\n",
    "                print(f\"Saved {file_counter} files\")\n",
    "            \n",
    "        except Exception as e:\n",
    "            print(f\"Error processing {input_path}: {e}\")"
   ]
  },
  {
   "cell_type": "code",
   "execution_count": 3,
   "id": "fbc8d169-a916-4086-a0c8-05e66402ad18",
   "metadata": {},
   "outputs": [
    {
     "name": "stdout",
     "output_type": "stream",
     "text": [
      "Saved 1000 files\n",
      "Saved 2000 files\n",
      "Saved 3000 files\n",
      "Saved 4000 files\n",
      "Saved 5000 files\n",
      "Saved 6000 files\n",
      "Saved 7000 files\n",
      "Saved 8000 files\n",
      "Saved 9000 files\n",
      "Saved 10000 files\n",
      "Saved 11000 files\n",
      "Saved 12000 files\n",
      "Saved 13000 files\n",
      "Saved 14000 files\n",
      "Saved 15000 files\n",
      "Saved 16000 files\n",
      "Saved 17000 files\n",
      "Saved 18000 files\n",
      "Saved 19000 files\n",
      "Saved 20000 files\n",
      "Saved 21000 files\n",
      "Saved 22000 files\n",
      "Saved 23000 files\n",
      "Saved 24000 files\n",
      "Saved 25000 files\n",
      "Saved 26000 files\n",
      "Saved 27000 files\n",
      "Saved 28000 files\n",
      "Saved 29000 files\n",
      "Saved 30000 files\n",
      "Saved 1000 files\n",
      "Saved 2000 files\n",
      "Saved 3000 files\n",
      "Saved 4000 files\n",
      "Saved 5000 files\n",
      "Saved 6000 files\n",
      "Saved 7000 files\n",
      "Saved 8000 files\n",
      "Saved 9000 files\n",
      "Saved 10000 files\n",
      "Saved 11000 files\n",
      "Saved 12000 files\n",
      "Saved 13000 files\n",
      "Saved 14000 files\n",
      "Saved 15000 files\n",
      "Saved 16000 files\n",
      "Saved 17000 files\n",
      "Saved 18000 files\n",
      "Saved 19000 files\n",
      "Saved 20000 files\n",
      "Saved 21000 files\n",
      "Saved 22000 files\n",
      "Saved 23000 files\n",
      "Saved 24000 files\n",
      "Saved 25000 files\n",
      "Saved 26000 files\n",
      "Saved 27000 files\n",
      "Saved 28000 files\n",
      "Saved 29000 files\n",
      "Saved 30000 files\n"
     ]
    }
   ],
   "source": [
    "size = (700, 700)\n",
    "n_film = 30000\n",
    "n_digital = 30000\n",
    "create_subset_resize_and_split(config.tts_source_dir_film, config.tts_base_folder, 'film', size, n_film)\n",
    "create_subset_resize_and_split(config.tts_source_dir_digital, config.tts_base_folder, 'digital', size, n_digital)"
   ]
  }
 ],
 "metadata": {
  "kernelspec": {
   "display_name": "Python 3 (ipykernel)",
   "language": "python",
   "name": "python3"
  },
  "language_info": {
   "codemirror_mode": {
    "name": "ipython",
    "version": 3
   },
   "file_extension": ".py",
   "mimetype": "text/x-python",
   "name": "python",
   "nbconvert_exporter": "python",
   "pygments_lexer": "ipython3",
   "version": "3.11.5"
  }
 },
 "nbformat": 4,
 "nbformat_minor": 5
}
