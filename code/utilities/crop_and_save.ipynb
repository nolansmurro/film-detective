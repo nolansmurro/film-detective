{
 "cells": [
  {
   "cell_type": "code",
   "execution_count": 1,
   "id": "ceca9497-03d6-471d-9cb2-bce6ddf0282d",
   "metadata": {
    "tags": []
   },
   "outputs": [],
   "source": [
    "from PIL import Image\n",
    "import os\n",
    "from image_preprocessing import crop_resize"
   ]
  },
  {
   "cell_type": "code",
   "execution_count": 2,
   "id": "40ea2113-b853-4e87-b207-c0743ab2ebde",
   "metadata": {
    "tags": []
   },
   "outputs": [],
   "source": [
    "def crop_and_save(source_dir, target_dir, size):\n",
    "    if not os.path.exists(target_dir):\n",
    "        os.makedirs(target_dir)\n",
    "    \n",
    "    for filename in os.listdir(source_dir):\n",
    "        if filename.lower().endswith(('.jpg', '.jpeg')):\n",
    "            input_path = os.path.join(source_dir, filename)\n",
    "            output_path = os.path.join(target_dir, filename)\n",
    "            \n",
    "            with Image.open(input_path) as img:\n",
    "                processed_img = crop_resize(img, size)\n",
    "                processed_img.save(output_path)"
   ]
  },
  {
   "cell_type": "code",
   "execution_count": 3,
   "id": "ac5dd7af-3247-49ce-80f9-538bd4a400f7",
   "metadata": {
    "tags": []
   },
   "outputs": [],
   "source": [
    "image_size = (700, 700)"
   ]
  },
  {
   "cell_type": "code",
   "execution_count": 4,
   "id": "2bb3142a-0cd7-4517-a992-017667341ccd",
   "metadata": {
    "tags": []
   },
   "outputs": [],
   "source": [
    "source_directory_film = '/Volumes/Elemental/DSI/serving/original/film'\n",
    "target_directory_film = '/Volumes/Elemental/DSI/serving/crop/film-700'"
   ]
  },
  {
   "cell_type": "code",
   "execution_count": 5,
   "id": "8951e96a-9355-4f63-adf9-94ebfbd239e9",
   "metadata": {
    "tags": []
   },
   "outputs": [],
   "source": [
    "crop_and_save(source_directory_film, target_directory_film, image_size)"
   ]
  },
  {
   "cell_type": "code",
   "execution_count": 6,
   "id": "5587ded2-1ca0-4ca1-b0e5-2d159aab2606",
   "metadata": {
    "tags": []
   },
   "outputs": [],
   "source": [
    "source_directory_digital = '/Volumes/Elemental/DSI/serving/original/digital'\n",
    "target_directory_digital = '/Volumes/Elemental/DSI/serving/crop/digital-700'"
   ]
  },
  {
   "cell_type": "code",
   "execution_count": 7,
   "id": "f008e4dd-515b-478e-8ddb-da87c9fab419",
   "metadata": {
    "tags": []
   },
   "outputs": [],
   "source": [
    "crop_and_save(source_directory_digital, target_directory_digital, image_size)"
   ]
  }
 ],
 "metadata": {
  "kernelspec": {
   "display_name": "Python 3 (ipykernel)",
   "language": "python",
   "name": "python3"
  },
  "language_info": {
   "codemirror_mode": {
    "name": "ipython",
    "version": 3
   },
   "file_extension": ".py",
   "mimetype": "text/x-python",
   "name": "python",
   "nbconvert_exporter": "python",
   "pygments_lexer": "ipython3",
   "version": "3.11.5"
  }
 },
 "nbformat": 4,
 "nbformat_minor": 5
}
