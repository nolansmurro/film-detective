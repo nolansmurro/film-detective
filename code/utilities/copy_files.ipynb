{
 "cells": [
  {
   "cell_type": "code",
   "execution_count": 1,
   "id": "1ad367c3-2da0-4404-bf41-d3db87cb943c",
   "metadata": {
    "tags": []
   },
   "outputs": [],
   "source": [
    "import shutil\n",
    "import os"
   ]
  },
  {
   "cell_type": "code",
   "execution_count": 2,
   "id": "fa2b4c5c-d9c7-4c16-b6dc-fb3c3371b875",
   "metadata": {
    "tags": []
   },
   "outputs": [],
   "source": [
    "def copy_files(src_dir, dest_dir):\n",
    "    if not os.path.exists(src_dir):\n",
    "        print(f\"Source directory {src_dir} does not exist.\")\n",
    "        return\n",
    "\n",
    "    if not os.path.exists(dest_dir):\n",
    "        os.makedirs(dest_dir)\n",
    "        \n",
    "    file_counter = 0\n",
    "\n",
    "    for filename in os.listdir(src_dir):\n",
    "        file_path = os.path.join(src_dir, filename)\n",
    "\n",
    "        if os.path.isfile(file_path):\n",
    "            shutil.copy(file_path, os.path.join(dest_dir, filename))\n",
    "            \n",
    "            file_counter += 1\n",
    "            \n",
    "            if file_counter % 1000 == 0:\n",
    "                print(f\"Copied {file_counter} files to {dest_dir}\")"
   ]
  },
  {
   "cell_type": "code",
   "execution_count": 3,
   "id": "d2fc944a-9002-4021-ab30-68cbb901dae0",
   "metadata": {
    "tags": []
   },
   "outputs": [
    {
     "name": "stdout",
     "output_type": "stream",
     "text": [
      "Copied 1000 files to /Volumes/Elemental/DSI/film-detective-data/digital\n",
      "Copied 2000 files to /Volumes/Elemental/DSI/film-detective-data/digital\n"
     ]
    }
   ],
   "source": [
    "src_directory = '/Volumes/Elemental/DSI/film-detective-data/images/digital_photography_1600'\n",
    "dest_directory = '/Volumes/Elemental/DSI/film-detective-data/digital'\n",
    "copy_files(src_directory, dest_directory)"
   ]
  }
 ],
 "metadata": {
  "kernelspec": {
   "display_name": "Python 3 (ipykernel)",
   "language": "python",
   "name": "python3"
  },
  "language_info": {
   "codemirror_mode": {
    "name": "ipython",
    "version": 3
   },
   "file_extension": ".py",
   "mimetype": "text/x-python",
   "name": "python",
   "nbconvert_exporter": "python",
   "pygments_lexer": "ipython3",
   "version": "3.11.5"
  }
 },
 "nbformat": 4,
 "nbformat_minor": 5
}
