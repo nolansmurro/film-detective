{
 "cells": [
  {
   "cell_type": "code",
   "execution_count": 1,
   "id": "20f56039-645d-4460-a9a2-d1c695df04d6",
   "metadata": {
    "tags": []
   },
   "outputs": [],
   "source": [
    "import os\n",
    "import sys\n",
    "import shutil\n",
    "import random\n",
    "from PIL import Image"
   ]
  },
  {
   "cell_type": "code",
   "execution_count": 2,
   "id": "d159f7b3-4f8a-4151-8373-c239f634fb9d",
   "metadata": {
    "tags": []
   },
   "outputs": [],
   "source": [
    "root_dir = os.path.dirname(os.getcwd())\n",
    "\n",
    "if root_dir not in sys.path:\n",
    "    sys.path.append(root_dir)\n",
    "\n",
    "import config\n",
    "from image_preprocessing import crop_resize"
   ]
  },
  {
   "cell_type": "code",
   "execution_count": 3,
   "id": "4228478a-aa07-4f77-afef-390ae0775d63",
   "metadata": {},
   "outputs": [],
   "source": [
    "def create_subset_resize_and_split(source_dir, train_test_base_folder, category, size, n, test_ratio=0.2):\n",
    "    image_files = [f for f in os.listdir(source_dir) if f.lower().endswith(('.png', '.jpg', '.jpeg')) and not f.startswith('._')]\n",
    "    random.shuffle(image_files)\n",
    "    selected_files = image_files[:n]\n",
    "\n",
    "    split_index = int(len(selected_files) * (1 - test_ratio))\n",
    "\n",
    "    train_folder = os.path.join(train_test_base_folder, 'train', category)\n",
    "    test_folder = os.path.join(train_test_base_folder, 'test', category)\n",
    "\n",
    "    os.makedirs(train_folder, exist_ok=True)\n",
    "    os.makedirs(test_folder, exist_ok=True)\n",
    "    \n",
    "    file_counter = 0\n",
    "\n",
    "    for i, filename in enumerate(selected_files):\n",
    "        input_path = os.path.join(source_dir, filename)\n",
    "        output_path = os.path.join(train_folder if i < split_index else test_folder, filename)\n",
    "\n",
    "        try:\n",
    "            with Image.open(input_path) as image:\n",
    "                processed_image = crop_resize(image, size)\n",
    "                processed_image.save(output_path)\n",
    "            file_counter += 1\n",
    "            \n",
    "            if file_counter % 1000 == 0:\n",
    "                print(f\"Saved {file_counter} files\")\n",
    "            \n",
    "        except Exception as e:\n",
    "            print(f\"Error processing {input_path}: {e}\")"
   ]
  },
  {
   "cell_type": "code",
   "execution_count": 4,
   "id": "fbc8d169-a916-4086-a0c8-05e66402ad18",
   "metadata": {},
   "outputs": [
    {
     "ename": "KeyboardInterrupt",
     "evalue": "",
     "output_type": "error",
     "traceback": [
      "\u001b[0;31m---------------------------------------------------------------------------\u001b[0m",
      "\u001b[0;31mKeyboardInterrupt\u001b[0m                         Traceback (most recent call last)",
      "Cell \u001b[0;32mIn[4], line 4\u001b[0m\n\u001b[1;32m      2\u001b[0m n_film \u001b[38;5;241m=\u001b[39m \u001b[38;5;241m30000\u001b[39m\n\u001b[1;32m      3\u001b[0m n_digital \u001b[38;5;241m=\u001b[39m \u001b[38;5;241m30000\u001b[39m\n\u001b[0;32m----> 4\u001b[0m create_subset_resize_and_split(config\u001b[38;5;241m.\u001b[39mtts_source_dir_film, config\u001b[38;5;241m.\u001b[39mtts_base_folder, \u001b[38;5;124m'\u001b[39m\u001b[38;5;124mfilm\u001b[39m\u001b[38;5;124m'\u001b[39m, size, n_film)\n\u001b[1;32m      5\u001b[0m create_subset_resize_and_split(config\u001b[38;5;241m.\u001b[39mtts_source_dir_digital, config\u001b[38;5;241m.\u001b[39mtts_base_folder, \u001b[38;5;124m'\u001b[39m\u001b[38;5;124mdigital\u001b[39m\u001b[38;5;124m'\u001b[39m, size, n_digital)\n",
      "Cell \u001b[0;32mIn[3], line 22\u001b[0m, in \u001b[0;36mcreate_subset_resize_and_split\u001b[0;34m(source_dir, train_test_base_folder, category, size, n, test_ratio)\u001b[0m\n\u001b[1;32m     20\u001b[0m \u001b[38;5;28;01mtry\u001b[39;00m:\n\u001b[1;32m     21\u001b[0m     \u001b[38;5;28;01mwith\u001b[39;00m Image\u001b[38;5;241m.\u001b[39mopen(input_path) \u001b[38;5;28;01mas\u001b[39;00m image:\n\u001b[0;32m---> 22\u001b[0m         processed_image \u001b[38;5;241m=\u001b[39m crop_resize(image, size)\n\u001b[1;32m     23\u001b[0m         processed_image\u001b[38;5;241m.\u001b[39msave(output_path)\n\u001b[1;32m     24\u001b[0m     file_counter \u001b[38;5;241m+\u001b[39m\u001b[38;5;241m=\u001b[39m \u001b[38;5;241m1\u001b[39m\n",
      "File \u001b[0;32m~/DSI/projects/film-detective/scripts/image_preprocessing.py:21\u001b[0m, in \u001b[0;36mcrop_resize\u001b[0;34m(image, size)\u001b[0m\n\u001b[1;32m     18\u001b[0m     bottom \u001b[38;5;241m=\u001b[39m top \u001b[38;5;241m+\u001b[39m new_height\n\u001b[1;32m     20\u001b[0m image \u001b[38;5;241m=\u001b[39m image\u001b[38;5;241m.\u001b[39mcrop((left, top, right, bottom))\n\u001b[0;32m---> 21\u001b[0m image \u001b[38;5;241m=\u001b[39m image\u001b[38;5;241m.\u001b[39mresize(size, Image\u001b[38;5;241m.\u001b[39mLANCZOS)\n\u001b[1;32m     23\u001b[0m \u001b[38;5;28;01mreturn\u001b[39;00m image\n",
      "File \u001b[0;32m~/anaconda3/lib/python3.11/site-packages/PIL/Image.py:2192\u001b[0m, in \u001b[0;36mImage.resize\u001b[0;34m(self, size, resample, box, reducing_gap)\u001b[0m\n\u001b[1;32m   2184\u001b[0m             \u001b[38;5;28mself\u001b[39m \u001b[38;5;241m=\u001b[39m Image\u001b[38;5;241m.\u001b[39mreduce(\u001b[38;5;28mself\u001b[39m, factor, box\u001b[38;5;241m=\u001b[39mreduce_box)\n\u001b[1;32m   2185\u001b[0m         box \u001b[38;5;241m=\u001b[39m (\n\u001b[1;32m   2186\u001b[0m             (box[\u001b[38;5;241m0\u001b[39m] \u001b[38;5;241m-\u001b[39m reduce_box[\u001b[38;5;241m0\u001b[39m]) \u001b[38;5;241m/\u001b[39m factor_x,\n\u001b[1;32m   2187\u001b[0m             (box[\u001b[38;5;241m1\u001b[39m] \u001b[38;5;241m-\u001b[39m reduce_box[\u001b[38;5;241m1\u001b[39m]) \u001b[38;5;241m/\u001b[39m factor_y,\n\u001b[1;32m   2188\u001b[0m             (box[\u001b[38;5;241m2\u001b[39m] \u001b[38;5;241m-\u001b[39m reduce_box[\u001b[38;5;241m0\u001b[39m]) \u001b[38;5;241m/\u001b[39m factor_x,\n\u001b[1;32m   2189\u001b[0m             (box[\u001b[38;5;241m3\u001b[39m] \u001b[38;5;241m-\u001b[39m reduce_box[\u001b[38;5;241m1\u001b[39m]) \u001b[38;5;241m/\u001b[39m factor_y,\n\u001b[1;32m   2190\u001b[0m         )\n\u001b[0;32m-> 2192\u001b[0m \u001b[38;5;28;01mreturn\u001b[39;00m \u001b[38;5;28mself\u001b[39m\u001b[38;5;241m.\u001b[39m_new(\u001b[38;5;28mself\u001b[39m\u001b[38;5;241m.\u001b[39mim\u001b[38;5;241m.\u001b[39mresize(size, resample, box))\n",
      "\u001b[0;31mKeyboardInterrupt\u001b[0m: "
     ]
    }
   ],
   "source": [
    "size = (700, 700)\n",
    "n_film = 30000\n",
    "n_digital = 30000\n",
    "create_subset_resize_and_split(config.tts_source_dir_film, config.tts_base_folder, 'film', size, n_film)\n",
    "create_subset_resize_and_split(config.tts_source_dir_digital, config.tts_base_folder, 'digital', size, n_digital)"
   ]
  }
 ],
 "metadata": {
  "kernelspec": {
   "display_name": "Python 3 (ipykernel)",
   "language": "python",
   "name": "python3"
  },
  "language_info": {
   "codemirror_mode": {
    "name": "ipython",
    "version": 3
   },
   "file_extension": ".py",
   "mimetype": "text/x-python",
   "name": "python",
   "nbconvert_exporter": "python",
   "pygments_lexer": "ipython3",
   "version": "3.11.5"
  }
 },
 "nbformat": 4,
 "nbformat_minor": 5
}
