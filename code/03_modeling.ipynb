{
 "cells": [
  {
   "cell_type": "code",
   "execution_count": 4,
   "metadata": {
    "id": "GTjlMXKehkgc",
    "tags": []
   },
   "outputs": [],
   "source": [
    "import os\n",
    "import sys\n",
    "import shutil\n",
    "import random\n",
    "import zipfile\n",
    "# from google.colab import drive\n",
    "\n",
    "import numpy as np\n",
    "import pandas as pd\n",
    "import matplotlib.pyplot as plt\n",
    "import math\n",
    "\n",
    "from tensorflow.keras.models import Sequential\n",
    "from tensorflow.keras.layers import Dense, Flatten, Dropout, Conv2D, MaxPooling2D\n",
    "from tensorflow.keras.callbacks import EarlyStopping, ModelCheckpoint\n",
    "from tensorflow.keras.regularizers import l2\n",
    "\n",
    "from tensorflow.keras.preprocessing.image import ImageDataGenerator\n",
    "\n",
    "from sklearn.metrics import confusion_matrix\n",
    "from sklearn.metrics import ConfusionMatrixDisplay\n",
    "\n",
    "from tqdm import tqdm"
   ]
  },
  {
   "cell_type": "code",
   "execution_count": 5,
   "metadata": {
    "id": "PyNnN4PMs6Ew",
    "tags": []
   },
   "outputs": [],
   "source": [
    "root_dir = os.path.dirname(os.getcwd())\n",
    "\n",
    "if root_dir not in sys.path:\n",
    "    sys.path.append(root_dir)\n",
    "\n",
    "import config"
   ]
  },
  {
   "cell_type": "code",
   "execution_count": 6,
   "metadata": {
    "id": "11DEu8BxxQg8",
    "tags": []
   },
   "outputs": [],
   "source": [
    "data_source_path = config.model_data_source_path\n",
    "data_target_path = config.model_data_target_path"
   ]
  },
  {
   "cell_type": "code",
   "execution_count": 7,
   "metadata": {
    "id": "vcbva2fLxJJI",
    "tags": []
   },
   "outputs": [],
   "source": [
    "image_size = (700, 700)"
   ]
  },
  {
   "cell_type": "code",
   "execution_count": 31,
   "metadata": {
    "id": "NjuPSSuLZlhv"
   },
   "outputs": [],
   "source": [
    "model = Sequential([\n",
    "    Conv2D(32, (3,3), activation='relu', input_shape=(*image_size, 3)),\n",
    "    MaxPooling2D(2,2),\n",
    "    Conv2D(64, (2,2), activation='relu'),\n",
    "    MaxPooling2D(2, 2),\n",
    "    Conv2D(128, (3,3), activation='relu'),\n",
    "    MaxPooling2D(2, 2),\n",
    "    Conv2D(256, (1,1), activation='relu'),\n",
    "    MaxPooling2D(2, 2),\n",
    "    Conv2D(256, (2,2), activation='relu'),\n",
    "    MaxPooling2D(2, 2),\n",
    "    Flatten(),\n",
    "    Dense(64, activation='relu', kernel_regularizer=l2(0.001)),\n",
    "    Dropout(0.5),\n",
    "    Dense(1, activation='sigmoid')\n",
    "])\n",
    "\n",
    "model.compile(optimizer='adam', loss='binary_crossentropy', metrics=['accuracy'])"
   ]
  },
  {
   "cell_type": "code",
   "execution_count": 32,
   "metadata": {
    "colab": {
     "base_uri": "https://localhost:8080/"
    },
    "id": "IEXN7Max0uCk",
    "outputId": "90a3ffa0-81e1-4718-8e8f-1c7fe7b4a92e"
   },
   "outputs": [
    {
     "name": "stdout",
     "output_type": "stream",
     "text": [
      "Model: \"sequential\"\n",
      "_________________________________________________________________\n",
      " Layer (type)                Output Shape              Param #   \n",
      "=================================================================\n",
      " conv2d (Conv2D)             (None, 698, 698, 32)      896       \n",
      "                                                                 \n",
      " max_pooling2d (MaxPooling2  (None, 349, 349, 32)      0         \n",
      " D)                                                              \n",
      "                                                                 \n",
      " conv2d_1 (Conv2D)           (None, 348, 348, 64)      8256      \n",
      "                                                                 \n",
      " max_pooling2d_1 (MaxPoolin  (None, 174, 174, 64)      0         \n",
      " g2D)                                                            \n",
      "                                                                 \n",
      " conv2d_2 (Conv2D)           (None, 172, 172, 128)     73856     \n",
      "                                                                 \n",
      " max_pooling2d_2 (MaxPoolin  (None, 86, 86, 128)       0         \n",
      " g2D)                                                            \n",
      "                                                                 \n",
      " conv2d_3 (Conv2D)           (None, 86, 86, 256)       33024     \n",
      "                                                                 \n",
      " max_pooling2d_3 (MaxPoolin  (None, 43, 43, 256)       0         \n",
      " g2D)                                                            \n",
      "                                                                 \n",
      " conv2d_4 (Conv2D)           (None, 42, 42, 256)       262400    \n",
      "                                                                 \n",
      " max_pooling2d_4 (MaxPoolin  (None, 21, 21, 256)       0         \n",
      " g2D)                                                            \n",
      "                                                                 \n",
      " flatten (Flatten)           (None, 112896)            0         \n",
      "                                                                 \n",
      " dense (Dense)               (None, 64)                7225408   \n",
      "                                                                 \n",
      " dropout (Dropout)           (None, 64)                0         \n",
      "                                                                 \n",
      " dense_1 (Dense)             (None, 1)                 65        \n",
      "                                                                 \n",
      "=================================================================\n",
      "Total params: 7603905 (29.01 MB)\n",
      "Trainable params: 7603905 (29.01 MB)\n",
      "Non-trainable params: 0 (0.00 Byte)\n",
      "_________________________________________________________________\n"
     ]
    }
   ],
   "source": [
    "model.summary()"
   ]
  },
  {
   "cell_type": "code",
   "execution_count": 33,
   "metadata": {
    "id": "xRgZgfaLmF5o"
   },
   "outputs": [],
   "source": [
    "train_datagen = ImageDataGenerator(rescale=1/255)\n",
    "val_datagen = ImageDataGenerator(rescale=1/255)"
   ]
  },
  {
   "cell_type": "code",
   "execution_count": 34,
   "metadata": {
    "id": "1c4RA-DRsnU-"
   },
   "outputs": [],
   "source": [
    "batch_size=32"
   ]
  },
  {
   "cell_type": "code",
   "execution_count": 35,
   "metadata": {
    "colab": {
     "base_uri": "https://localhost:8080/"
    },
    "id": "y0HBPc4OVUEI",
    "outputId": "4704a338-6e44-47ee-b573-dc2afafaf11b"
   },
   "outputs": [
    {
     "name": "stdout",
     "output_type": "stream",
     "text": [
      "Found 48000 images belonging to 2 classes.\n",
      "Found 12000 images belonging to 2 classes.\n"
     ]
    }
   ],
   "source": [
    "train_generator = train_datagen.flow_from_directory(\n",
    "    os.path.join(data_target_path, 'train'),\n",
    "    target_size=image_size,\n",
    "    batch_size=batch_size,\n",
    "    class_mode='binary'\n",
    ")\n",
    "\n",
    "val_generator = val_datagen.flow_from_directory(\n",
    "    os.path.join(data_target_path, 'test'),\n",
    "    target_size=image_size,\n",
    "    batch_size=batch_size,\n",
    "    class_mode='binary',\n",
    "    shuffle=False\n",
    ")"
   ]
  },
  {
   "cell_type": "code",
   "execution_count": 36,
   "metadata": {
    "colab": {
     "base_uri": "https://localhost:8080/"
    },
    "id": "gWShKfBhpZF8",
    "outputId": "dcd3d4f1-3c18-41df-8ffb-118ef2935d26"
   },
   "outputs": [
    {
     "name": "stdout",
     "output_type": "stream",
     "text": [
      "{'digital': 0, 'film': 1}\n"
     ]
    }
   ],
   "source": [
    "class_indices = train_generator.class_indices\n",
    "print(class_indices)"
   ]
  },
  {
   "cell_type": "code",
   "execution_count": 37,
   "metadata": {
    "id": "yRt7akGbsOrt"
   },
   "outputs": [],
   "source": [
    "total_train_images = train_generator.n\n",
    "total_val_images = val_generator.n"
   ]
  },
  {
   "cell_type": "code",
   "execution_count": 38,
   "metadata": {
    "id": "6gvHz2wbsYhz"
   },
   "outputs": [],
   "source": [
    "steps_per_epoch = math.ceil(total_train_images // batch_size)\n",
    "validation_steps = math.ceil(total_val_images // batch_size)"
   ]
  },
  {
   "cell_type": "code",
   "execution_count": 39,
   "metadata": {
    "id": "hPJfA68XrttS"
   },
   "outputs": [],
   "source": [
    "early_stopping = EarlyStopping(monitor='val_accuracy', patience=5, restore_best_weights=True)"
   ]
  },
  {
   "cell_type": "code",
   "execution_count": 40,
   "metadata": {
    "id": "RBW5ceHzWE_o"
   },
   "outputs": [],
   "source": [
    "checkpoint = ModelCheckpoint(\n",
    "    os.path.join(config.model_checkpoints_path, 'checkpoint_{epoch:02d}-{val_accuracy:.2f}.h5'),\n",
    "    monitor='val_accuracy',\n",
    "    verbose=1,\n",
    "    save_best_only=True,\n",
    "    mode='max',\n",
    "    save_weights_only=False\n",
    ")"
   ]
  },
  {
   "cell_type": "code",
   "execution_count": 42,
   "metadata": {
    "colab": {
     "base_uri": "https://localhost:8080/"
    },
    "id": "0fG-tC_Ru5E5",
    "outputId": "85e15c23-407c-4f6c-ac2f-ec615a7b8b88"
   },
   "outputs": [
    {
     "name": "stdout",
     "output_type": "stream",
     "text": [
      "Epoch 1/30\n",
      "1500/1500 [==============================] - ETA: 0s - loss: 0.6335 - accuracy: 0.6638\n",
      "Epoch 1: val_accuracy improved from -inf to 0.66542, saving model to /content/drive/My Drive/DSI/results/checkpoint_01-0.67.h5\n"
     ]
    },
    {
     "name": "stderr",
     "output_type": "stream",
     "text": [
      "/usr/local/lib/python3.10/dist-packages/keras/src/engine/training.py:3079: UserWarning: You are saving your model as an HDF5 file via `model.save()`. This file format is considered legacy. We recommend using instead the native Keras format, e.g. `model.save('my_model.keras')`.\n",
      "  saving_api.save_model(\n"
     ]
    },
    {
     "name": "stdout",
     "output_type": "stream",
     "text": [
      "1500/1500 [==============================] - 828s 543ms/step - loss: 0.6335 - accuracy: 0.6638 - val_loss: 0.6027 - val_accuracy: 0.6654\n",
      "Epoch 2/30\n",
      "1500/1500 [==============================] - ETA: 0s - loss: 0.6083 - accuracy: 0.6892\n",
      "Epoch 2: val_accuracy improved from 0.66542 to 0.70000, saving model to /content/drive/My Drive/DSI/results/checkpoint_02-0.70.h5\n",
      "1500/1500 [==============================] - 806s 537ms/step - loss: 0.6083 - accuracy: 0.6892 - val_loss: 0.5800 - val_accuracy: 0.7000\n",
      "Epoch 3/30\n",
      "1500/1500 [==============================] - ETA: 0s - loss: 0.5942 - accuracy: 0.7010\n",
      "Epoch 3: val_accuracy improved from 0.70000 to 0.71833, saving model to /content/drive/My Drive/DSI/results/checkpoint_03-0.72.h5\n",
      "1500/1500 [==============================] - 804s 536ms/step - loss: 0.5942 - accuracy: 0.7010 - val_loss: 0.5695 - val_accuracy: 0.7183\n",
      "Epoch 4/30\n",
      "1500/1500 [==============================] - ETA: 0s - loss: 0.5836 - accuracy: 0.7155\n",
      "Epoch 4: val_accuracy improved from 0.71833 to 0.72775, saving model to /content/drive/My Drive/DSI/results/checkpoint_04-0.73.h5\n",
      "1500/1500 [==============================] - 803s 535ms/step - loss: 0.5836 - accuracy: 0.7155 - val_loss: 0.5504 - val_accuracy: 0.7278\n",
      "Epoch 5/30\n",
      "1500/1500 [==============================] - ETA: 0s - loss: 0.5737 - accuracy: 0.7242\n",
      "Epoch 5: val_accuracy improved from 0.72775 to 0.73550, saving model to /content/drive/My Drive/DSI/results/checkpoint_05-0.74.h5\n",
      "1500/1500 [==============================] - 808s 539ms/step - loss: 0.5737 - accuracy: 0.7242 - val_loss: 0.5493 - val_accuracy: 0.7355\n",
      "Epoch 6/30\n",
      "1500/1500 [==============================] - ETA: 0s - loss: 0.5597 - accuracy: 0.7354\n",
      "Epoch 6: val_accuracy improved from 0.73550 to 0.75158, saving model to /content/drive/My Drive/DSI/results/checkpoint_06-0.75.h5\n",
      "1500/1500 [==============================] - 801s 534ms/step - loss: 0.5597 - accuracy: 0.7354 - val_loss: 0.5295 - val_accuracy: 0.7516\n",
      "Epoch 7/30\n",
      "1500/1500 [==============================] - ETA: 0s - loss: 0.5509 - accuracy: 0.7442\n",
      "Epoch 7: val_accuracy improved from 0.75158 to 0.75325, saving model to /content/drive/My Drive/DSI/results/checkpoint_07-0.75.h5\n",
      "1500/1500 [==============================] - 792s 528ms/step - loss: 0.5509 - accuracy: 0.7442 - val_loss: 0.5216 - val_accuracy: 0.7533\n",
      "Epoch 8/30\n",
      "1500/1500 [==============================] - ETA: 0s - loss: 0.5372 - accuracy: 0.7563\n",
      "Epoch 8: val_accuracy improved from 0.75325 to 0.76092, saving model to /content/drive/My Drive/DSI/results/checkpoint_08-0.76.h5\n",
      "1500/1500 [==============================] - 794s 529ms/step - loss: 0.5372 - accuracy: 0.7563 - val_loss: 0.5239 - val_accuracy: 0.7609\n",
      "Epoch 9/30\n",
      "1500/1500 [==============================] - ETA: 0s - loss: 0.5215 - accuracy: 0.7678\n",
      "Epoch 9: val_accuracy improved from 0.76092 to 0.78000, saving model to /content/drive/My Drive/DSI/results/checkpoint_09-0.78.h5\n",
      "1500/1500 [==============================] - 791s 528ms/step - loss: 0.5215 - accuracy: 0.7678 - val_loss: 0.5008 - val_accuracy: 0.7800\n",
      "Epoch 10/30\n",
      "1500/1500 [==============================] - ETA: 0s - loss: 0.5150 - accuracy: 0.7745\n",
      "Epoch 10: val_accuracy did not improve from 0.78000\n",
      "1500/1500 [==============================] - 798s 532ms/step - loss: 0.5150 - accuracy: 0.7745 - val_loss: 0.5288 - val_accuracy: 0.7562\n",
      "Epoch 11/30\n",
      "1500/1500 [==============================] - ETA: 0s - loss: 0.5064 - accuracy: 0.7815\n",
      "Epoch 11: val_accuracy did not improve from 0.78000\n",
      "1500/1500 [==============================] - 795s 530ms/step - loss: 0.5064 - accuracy: 0.7815 - val_loss: 0.5140 - val_accuracy: 0.7615\n",
      "Epoch 12/30\n",
      "1500/1500 [==============================] - ETA: 0s - loss: 0.4935 - accuracy: 0.7903\n",
      "Epoch 12: val_accuracy improved from 0.78000 to 0.79483, saving model to /content/drive/My Drive/DSI/results/checkpoint_12-0.79.h5\n",
      "1500/1500 [==============================] - 803s 535ms/step - loss: 0.4935 - accuracy: 0.7903 - val_loss: 0.4897 - val_accuracy: 0.7948\n",
      "Epoch 13/30\n",
      "1500/1500 [==============================] - ETA: 0s - loss: 0.4863 - accuracy: 0.7984\n",
      "Epoch 13: val_accuracy improved from 0.79483 to 0.80142, saving model to /content/drive/My Drive/DSI/results/checkpoint_13-0.80.h5\n",
      "1500/1500 [==============================] - 802s 534ms/step - loss: 0.4863 - accuracy: 0.7984 - val_loss: 0.4663 - val_accuracy: 0.8014\n",
      "Epoch 14/30\n",
      "1500/1500 [==============================] - ETA: 0s - loss: 0.4807 - accuracy: 0.8004\n",
      "Epoch 14: val_accuracy improved from 0.80142 to 0.81058, saving model to /content/drive/My Drive/DSI/results/checkpoint_14-0.81.h5\n",
      "1500/1500 [==============================] - 807s 538ms/step - loss: 0.4807 - accuracy: 0.8004 - val_loss: 0.4588 - val_accuracy: 0.8106\n",
      "Epoch 15/30\n",
      "1500/1500 [==============================] - ETA: 0s - loss: 0.4646 - accuracy: 0.8091\n",
      "Epoch 15: val_accuracy did not improve from 0.81058\n",
      "1500/1500 [==============================] - 798s 532ms/step - loss: 0.4646 - accuracy: 0.8091 - val_loss: 0.4850 - val_accuracy: 0.7851\n",
      "Epoch 16/30\n",
      "1500/1500 [==============================] - ETA: 0s - loss: 0.4629 - accuracy: 0.8098\n",
      "Epoch 16: val_accuracy did not improve from 0.81058\n",
      "1500/1500 [==============================] - 799s 533ms/step - loss: 0.4629 - accuracy: 0.8098 - val_loss: 0.4663 - val_accuracy: 0.8036\n",
      "Epoch 17/30\n",
      "1500/1500 [==============================] - ETA: 0s - loss: 0.4511 - accuracy: 0.8178\n",
      "Epoch 17: val_accuracy did not improve from 0.81058\n",
      "1500/1500 [==============================] - 798s 532ms/step - loss: 0.4511 - accuracy: 0.8178 - val_loss: 0.4610 - val_accuracy: 0.8045\n",
      "Epoch 18/30\n",
      "1500/1500 [==============================] - ETA: 0s - loss: 0.4436 - accuracy: 0.8233\n",
      "Epoch 18: val_accuracy did not improve from 0.81058\n",
      "1500/1500 [==============================] - 793s 528ms/step - loss: 0.4436 - accuracy: 0.8233 - val_loss: 0.4757 - val_accuracy: 0.8029\n",
      "Epoch 19/30\n",
      "1500/1500 [==============================] - ETA: 0s - loss: 0.4353 - accuracy: 0.8284\n",
      "Epoch 19: val_accuracy improved from 0.81058 to 0.82625, saving model to /content/drive/My Drive/DSI/results/checkpoint_19-0.83.h5\n",
      "1500/1500 [==============================] - 795s 530ms/step - loss: 0.4353 - accuracy: 0.8284 - val_loss: 0.4335 - val_accuracy: 0.8263\n",
      "Epoch 20/30\n",
      "1500/1500 [==============================] - ETA: 0s - loss: 0.4257 - accuracy: 0.8337\n",
      "Epoch 20: val_accuracy improved from 0.82625 to 0.82867, saving model to /content/drive/My Drive/DSI/results/checkpoint_20-0.83.h5\n",
      "1500/1500 [==============================] - 796s 531ms/step - loss: 0.4257 - accuracy: 0.8337 - val_loss: 0.4257 - val_accuracy: 0.8287\n",
      "Epoch 21/30\n",
      "1500/1500 [==============================] - ETA: 0s - loss: 0.4181 - accuracy: 0.8385\n",
      "Epoch 21: val_accuracy improved from 0.82867 to 0.83283, saving model to /content/drive/My Drive/DSI/results/checkpoint_21-0.83.h5\n",
      "1500/1500 [==============================] - 798s 532ms/step - loss: 0.4181 - accuracy: 0.8385 - val_loss: 0.4144 - val_accuracy: 0.8328\n",
      "Epoch 22/30\n",
      "1500/1500 [==============================] - ETA: 0s - loss: 0.4141 - accuracy: 0.8433\n",
      "Epoch 22: val_accuracy improved from 0.83283 to 0.84208, saving model to /content/drive/My Drive/DSI/results/checkpoint_22-0.84.h5\n",
      "1500/1500 [==============================] - 793s 528ms/step - loss: 0.4141 - accuracy: 0.8433 - val_loss: 0.4111 - val_accuracy: 0.8421\n",
      "Epoch 23/30\n",
      "1500/1500 [==============================] - ETA: 0s - loss: 0.4081 - accuracy: 0.8458\n",
      "Epoch 23: val_accuracy did not improve from 0.84208\n",
      "1500/1500 [==============================] - 795s 530ms/step - loss: 0.4081 - accuracy: 0.8458 - val_loss: 0.4273 - val_accuracy: 0.8342\n",
      "Epoch 24/30\n",
      "1500/1500 [==============================] - ETA: 0s - loss: 0.4004 - accuracy: 0.8481\n",
      "Epoch 24: val_accuracy improved from 0.84208 to 0.84317, saving model to /content/drive/My Drive/DSI/results/checkpoint_24-0.84.h5\n",
      "1500/1500 [==============================] - 798s 532ms/step - loss: 0.4004 - accuracy: 0.8481 - val_loss: 0.4097 - val_accuracy: 0.8432\n",
      "Epoch 25/30\n",
      "1500/1500 [==============================] - ETA: 0s - loss: 0.4022 - accuracy: 0.8500\n",
      "Epoch 25: val_accuracy did not improve from 0.84317\n",
      "1500/1500 [==============================] - 797s 531ms/step - loss: 0.4022 - accuracy: 0.8500 - val_loss: 0.4248 - val_accuracy: 0.8315\n",
      "Epoch 26/30\n",
      "1500/1500 [==============================] - ETA: 0s - loss: 0.3923 - accuracy: 0.8558\n",
      "Epoch 26: val_accuracy did not improve from 0.84317\n",
      "1500/1500 [==============================] - 793s 529ms/step - loss: 0.3923 - accuracy: 0.8558 - val_loss: 0.4143 - val_accuracy: 0.8378\n",
      "Epoch 27/30\n",
      "1500/1500 [==============================] - ETA: 0s - loss: 0.3920 - accuracy: 0.8564\n",
      "Epoch 27: val_accuracy did not improve from 0.84317\n",
      "1500/1500 [==============================] - 795s 530ms/step - loss: 0.3920 - accuracy: 0.8564 - val_loss: 0.4202 - val_accuracy: 0.8399\n",
      "Epoch 28/30\n",
      "1500/1500 [==============================] - ETA: 0s - loss: 0.3881 - accuracy: 0.8594\n",
      "Epoch 28: val_accuracy improved from 0.84317 to 0.84675, saving model to /content/drive/My Drive/DSI/results/checkpoint_28-0.85.h5\n",
      "1500/1500 [==============================] - 805s 536ms/step - loss: 0.3881 - accuracy: 0.8594 - val_loss: 0.4086 - val_accuracy: 0.8468\n",
      "Epoch 29/30\n",
      "1500/1500 [==============================] - ETA: 0s - loss: 0.3839 - accuracy: 0.8606\n",
      "Epoch 29: val_accuracy did not improve from 0.84675\n",
      "1500/1500 [==============================] - 793s 528ms/step - loss: 0.3839 - accuracy: 0.8606 - val_loss: 0.4351 - val_accuracy: 0.8400\n",
      "Epoch 30/30\n",
      "1500/1500 [==============================] - ETA: 0s - loss: 0.3766 - accuracy: 0.8655\n",
      "Epoch 30: val_accuracy did not improve from 0.84675\n",
      "1500/1500 [==============================] - 797s 532ms/step - loss: 0.3766 - accuracy: 0.8655 - val_loss: 0.4487 - val_accuracy: 0.8347\n"
     ]
    }
   ],
   "source": [
    "history = model.fit(\n",
    "    train_generator,\n",
    "    steps_per_epoch=steps_per_epoch,\n",
    "    epochs=30,\n",
    "    validation_data=val_generator,\n",
    "    validation_steps=validation_steps,\n",
    "    callbacks = [early_stopping, checkpoint]\n",
    ")"
   ]
  },
  {
   "cell_type": "code",
   "execution_count": 43,
   "metadata": {
    "colab": {
     "base_uri": "https://localhost:8080/"
    },
    "id": "19kU2KA0YH84",
    "outputId": "b7c9f69c-3379-4fdd-9b2a-f421c00f7992"
   },
   "outputs": [
    {
     "name": "stdout",
     "output_type": "stream",
     "text": [
      "375/375 [==============================] - 159s 423ms/step - loss: 0.4487 - accuracy: 0.8347\n"
     ]
    },
    {
     "data": {
      "text/plain": [
       "[0.4486593008041382, 0.8346666693687439]"
      ]
     },
     "execution_count": 43,
     "metadata": {},
     "output_type": "execute_result"
    }
   ],
   "source": [
    "model.evaluate(val_generator)"
   ]
  },
  {
   "cell_type": "code",
   "execution_count": 99,
   "metadata": {
    "colab": {
     "base_uri": "https://localhost:8080/"
    },
    "id": "jhbUYvgdAdNZ",
    "outputId": "ca26e80f-aedb-4807-b253-89619b3613df"
   },
   "outputs": [
    {
     "name": "stderr",
     "output_type": "stream",
     "text": [
      "/usr/local/lib/python3.10/dist-packages/keras/src/engine/training.py:3079: UserWarning: You are saving your model as an HDF5 file via `model.save()`. This file format is considered legacy. We recommend using instead the native Keras format, e.g. `model.save('my_model.keras')`.\n",
      "  saving_api.save_model(\n"
     ]
    }
   ],
   "source": [
    "model.save('/content/drive/My Drive/DSI/capstone/results/60_000_epoch30_.83.png.h5')"
   ]
  },
  {
   "cell_type": "code",
   "execution_count": 100,
   "metadata": {
    "id": "ULwRqMpBBK2m"
   },
   "outputs": [],
   "source": [
    "import json\n",
    "\n",
    "# Convert the history.history dict to a JSON file\n",
    "with open('/content/drive/My Drive/DSI/capstone/results/60_000_700_history.json', 'w') as f:\n",
    "    json.dump(history.history, f)"
   ]
  },
  {
   "cell_type": "code",
   "execution_count": 97,
   "metadata": {
    "colab": {
     "base_uri": "https://localhost:8080/",
     "height": 490
    },
    "id": "hMMQVSau2OPk",
    "outputId": "e24f7d52-ee93-48e1-9228-dd4b0c70ef25"
   },
   "outputs": [
    {
     "data": {
      "text/plain": [
       "<matplotlib.legend.Legend at 0x7b7ea7108dc0>"
      ]
     },
     "execution_count": 97,
     "metadata": {},
     "output_type": "execute_result"
    },
    {
     "data": {
      "image/png": "[encoded data removed]",
      "text/plain": [
       "<Figure size 640x480 with 1 Axes>"
      ]
     },
     "metadata": {},
     "output_type": "display_data"
    }
   ],
   "source": [
    "# output_path = '/content/drive/My Drive/DSI/results/accuracy_plot.png'\n",
    "plt.plot(history.history['accuracy'], label = 'Train', color = '#3babc1')\n",
    "plt.plot(history.history['val_accuracy'], label = 'Test', color = '#fe5d1f')\n",
    "plt.title('Accuracy')\n",
    "plt.xlabel('Epoch')\n",
    "plt.ylabel('Accuracy')\n",
    "plt.legend()\n",
    "# plt.savefig(output_path, dpi=300, transparent=False);\n"
   ]
  },
  {
   "cell_type": "code",
   "execution_count": 98,
   "metadata": {
    "colab": {
     "base_uri": "https://localhost:8080/",
     "height": 490
    },
    "id": "tMo-74FxZMeN",
    "outputId": "71599499-82fa-4d25-e7c8-76bb06e872c9"
   },
   "outputs": [
    {
     "data": {
      "text/plain": [
       "<matplotlib.legend.Legend at 0x7b7eb811e470>"
      ]
     },
     "execution_count": 98,
     "metadata": {},
     "output_type": "execute_result"
    },
    {
     "data": {
      "image/png": "[encoded data removed]",
      "text/plain": [
       "<Figure size 640x480 with 1 Axes>"
      ]
     },
     "metadata": {},
     "output_type": "display_data"
    }
   ],
   "source": [
    "# output_path = '/content/drive/My Drive/DSI/results/loss_plot.png'\n",
    "plt.plot(history.history['loss'], label = 'Train', color = '#3babc1')\n",
    "plt.plot(history.history['val_loss'], label = 'Test', color = '#fe5d1f')\n",
    "plt.title('Loss')\n",
    "plt.xlabel('Epoch')\n",
    "plt.ylabel('Loss')\n",
    "plt.legend()\n",
    "# plt.savefig(output_path, dpi=300, transparent=False);\n"
   ]
  },
  {
   "cell_type": "code",
   "execution_count": 46,
   "metadata": {
    "id": "hDWZP1gT8i-Q"
   },
   "outputs": [],
   "source": [
    "val_generator.reset()\n",
    "num_val_samples = val_generator.samples"
   ]
  },
  {
   "cell_type": "code",
   "execution_count": 47,
   "metadata": {
    "colab": {
     "base_uri": "https://localhost:8080/"
    },
    "id": "WlmCpOgX6PoR",
    "outputId": "877775f1-9b3b-4ce4-be9c-f6f4cf65834d"
   },
   "outputs": [
    {
     "name": "stdout",
     "output_type": "stream",
     "text": [
      "375/375 [==============================] - 159s 422ms/step\n"
     ]
    }
   ],
   "source": [
    "predictions = model.predict(val_generator, steps=validation_steps, )"
   ]
  },
  {
   "cell_type": "code",
   "execution_count": 48,
   "metadata": {
    "id": "ydn2XxD17jFz"
   },
   "outputs": [],
   "source": [
    "predictions = (predictions > 0.5).astype('int32')"
   ]
  },
  {
   "cell_type": "code",
   "execution_count": 49,
   "metadata": {
    "id": "39pB2MJy99by"
   },
   "outputs": [],
   "source": [
    "true_labels = val_generator.classes"
   ]
  },
  {
   "cell_type": "code",
   "execution_count": 50,
   "metadata": {
    "id": "gZj8IoKA86l2"
   },
   "outputs": [],
   "source": [
    "cm = confusion_matrix(true_labels, predictions)"
   ]
  },
  {
   "cell_type": "code",
   "execution_count": 51,
   "metadata": {
    "colab": {
     "base_uri": "https://localhost:8080/",
     "height": 472
    },
    "id": "ie8hC2bv-Am_",
    "outputId": "f1c2dd66-796b-4310-d6fd-9648cb225959"
   },
   "outputs": [
    {
     "data": {
      "image/png": "[encoded data removed]",
      "text/plain": [
       "<Figure size 640x480 with 2 Axes>"
      ]
     },
     "metadata": {},
     "output_type": "display_data"
    }
   ],
   "source": [
    "disp = ConfusionMatrixDisplay(confusion_matrix=cm, display_labels=val_generator.class_indices.keys())\n",
    "disp.plot(cmap='Greys')\n",
    "plt.xlabel('Predicted Labels')\n",
    "plt.ylabel('True Labels')\n",
    "plt.title('Confusion Matrix')\n",
    "plt.show()"
   ]
  }
 ],
 "metadata": {
  "accelerator": "GPU",
  "colab": {
   "gpuType": "V100",
   "machine_shape": "hm",
   "provenance": []
  },
  "kernelspec": {
   "display_name": "Python 3 (ipykernel)",
   "language": "python",
   "name": "python3"
  },
  "language_info": {
   "codemirror_mode": {
    "name": "ipython",
    "version": 3
   },
   "file_extension": ".py",
   "mimetype": "text/x-python",
   "name": "python",
   "nbconvert_exporter": "python",
   "pygments_lexer": "ipython3",
   "version": "3.11.5"
  }
 },
 "nbformat": 4,
 "nbformat_minor": 4
}
