{
 "cells": [
  {
   "cell_type": "code",
   "execution_count": 1,
   "id": "20f56039-645d-4460-a9a2-d1c695df04d6",
   "metadata": {
    "tags": []
   },
   "outputs": [],
   "source": [
    "import os\n",
    "import shutil\n",
    "import random\n",
    "import config\n",
    "from PIL import Image"
   ]
  },
  {
   "cell_type": "code",
   "execution_count": 6,
   "id": "f5351bca-36ac-467d-baaa-96af7f2f19ae",
   "metadata": {
    "tags": []
   },
   "outputs": [],
   "source": [
    "def resize_and_crop_image(input_path, output_path, size):\n",
    "    with Image.open(input_path) as image:\n",
    "        target_ratio = size[0] / size[1]\n",
    "        image_ratio = image.width / image.height\n",
    "\n",
    "        if image_ratio > target_ratio:\n",
    "            new_width = int(target_ratio * image.height)\n",
    "            left = (image.width - new_width) / 2\n",
    "            top = 0\n",
    "            right = left + new_width\n",
    "            bottom = image.height\n",
    "        else:\n",
    "            new_height = int(image.width / target_ratio)\n",
    "            left = 0\n",
    "            top = (image.height - new_height) / 2\n",
    "            right = image.width\n",
    "            bottom = top + new_height\n",
    "\n",
    "        image = image.crop((left, top, right, bottom))\n",
    "        image = image.resize(size, ImageResampling.LANCZOS)\n",
    "\n",
    "        image.save(output_path)"
   ]
  },
  {
   "cell_type": "code",
   "execution_count": 4,
   "id": "4228478a-aa07-4f77-afef-390ae0775d63",
   "metadata": {},
   "outputs": [],
   "source": [
    "def create_subset_resize_and_split(source_dir, train_test_base_folder, category, size, n, split_ratio=0.2):\n",
    "    image_files = [f for f in os.listdir(source_dir) if f.lower().endswith(('.png', '.jpg', '.jpeg')) and not f.startswith('._')]\n",
    "    random.shuffle(image_files)\n",
    "    selected_files = image_files[:n]\n",
    "\n",
    "    split_index = int(len(selected_files) * (1 - split_ratio))\n",
    "\n",
    "    train_folder = os.path.join(train_test_base_folder, 'train', category)\n",
    "    test_folder = os.path.join(train_test_base_folder, 'test', category)\n",
    "\n",
    "    os.makedirs(train_folder, exist_ok=True)\n",
    "    os.makedirs(test_folder, exist_ok=True)\n",
    "\n",
    "    for i, filename in enumerate(selected_files):\n",
    "        input_path = os.path.join(source_dir, filename)\n",
    "        if i < split_index:\n",
    "            output_path = os.path.join(train_folder, filename)\n",
    "        else:\n",
    "            output_path = os.path.join(test_folder, filename)\n",
    "\n",
    "        try:\n",
    "            resize_and_crop_image(input_path, output_path, size)\n",
    "        except Exception as e:\n",
    "            print(f\"Error processing {input_path}: {e}\")\n"
   ]
  },
  {
   "cell_type": "code",
   "execution_count": 5,
   "id": "fbc8d169-a916-4086-a0c8-05e66402ad18",
   "metadata": {},
   "outputs": [
    {
     "name": "stderr",
     "output_type": "stream",
     "text": [
      "/var/folders/q7/5h2c80n91kv48jr01119s4t80000gn/T/ipykernel_34036/543045609.py:20: DeprecationWarning: ANTIALIAS is deprecated and will be removed in Pillow 10 (2023-07-01). Use LANCZOS or Resampling.LANCZOS instead.\n",
      "  image = image.resize(size, Image.ANTIALIAS)\n"
     ]
    }
   ],
   "source": [
    "size = (600, 600)\n",
    "n_film = 9900\n",
    "n_digital = 9900\n",
    "create_subset_resize_and_split(config.tts_source_dir_film, config.tts_base_folder, 'film', size, n_film)\n",
    "create_subset_resize_and_split(config.tts_source_dir_digital, config.tts_base_folder, 'digital', size, n_digital)"
   ]
  }
 ],
 "metadata": {
  "kernelspec": {
   "display_name": "Python 3 (ipykernel)",
   "language": "python",
   "name": "python3"
  },
  "language_info": {
   "codemirror_mode": {
    "name": "ipython",
    "version": 3
   },
   "file_extension": ".py",
   "mimetype": "text/x-python",
   "name": "python",
   "nbconvert_exporter": "python",
   "pygments_lexer": "ipython3",
   "version": "3.11.5"
  }
 },
 "nbformat": 4,
 "nbformat_minor": 5
}
