{
 "cells": [
  {
   "cell_type": "code",
   "execution_count": 3,
   "id": "1a28a779-519d-4806-8cfd-9c6624e724bf",
   "metadata": {
    "tags": []
   },
   "outputs": [],
   "source": [
    "import os\n",
    "import sys\n",
    "import matplotlib.pyplot as plt\n",
    "from tensorflow.keras.models import load_model\n",
    "from tensorflow.keras.preprocessing.image import ImageDataGenerator\n",
    "from sklearn.metrics import confusion_matrix, accuracy_score\n",
    "import seaborn as sns\n",
    "from PIL import Image\n",
    "from tensorflow.keras.layers import Conv2D"
   ]
  },
  {
   "cell_type": "code",
   "execution_count": 4,
   "id": "0e15c2e6-41e1-4f35-92a9-fef717233608",
   "metadata": {
    "tags": []
   },
   "outputs": [],
   "source": [
    "root_dir = os.path.dirname(os.path.dirname(os.getcwd()))\n",
    "\n",
    "if root_dir not in sys.path:\n",
    "    sys.path.append(root_dir)\n",
    "\n",
    "import config"
   ]
  },
  {
   "cell_type": "code",
   "execution_count": 5,
   "id": "6a6eee43-0adf-41e6-aa06-6714591f62a4",
   "metadata": {
    "tags": []
   },
   "outputs": [],
   "source": [
    "model_path = os.path.join(root_dir, 'models', 'checkpoint_20-0.81.h5')\n",
    "model = load_model(model_path)"
   ]
  },
  {
   "cell_type": "code",
   "execution_count": 6,
   "id": "174f25c1-2adf-42c8-b6be-c04e2a892084",
   "metadata": {
    "tags": []
   },
   "outputs": [
    {
     "name": "stdout",
     "output_type": "stream",
     "text": [
      "Layer conv2d has 32 filters with kernel size: (3, 3)\n",
      "Layer conv2d_1 has 64 filters with kernel size: (2, 2)\n",
      "Layer conv2d_2 has 128 filters with kernel size: (3, 3)\n",
      "Layer conv2d_3 has 256 filters with kernel size: (1, 1)\n",
      "Layer conv2d_4 has 256 filters with kernel size: (2, 2)\n"
     ]
    }
   ],
   "source": [
    "for layer in model.layers:\n",
    "    if isinstance(layer, Conv2D):\n",
    "        config = layer.get_config()\n",
    "        filters = config['filters']\n",
    "        kernel_size = config['kernel_size']\n",
    "\n",
    "        print(f\"Layer {layer.name} has {filters} filters with kernel size: {kernel_size}\")"
   ]
  },
  {
   "cell_type": "code",
   "execution_count": 7,
   "id": "21e3e5ef-88bc-4595-821e-b86cac545bf7",
   "metadata": {
    "tags": []
   },
   "outputs": [
    {
     "name": "stdout",
     "output_type": "stream",
     "text": [
      "Model: \"sequential\"\n",
      "_________________________________________________________________\n",
      " Layer (type)                Output Shape              Param #   \n",
      "=================================================================\n",
      " conv2d (Conv2D)             (None, 698, 698, 32)      896       \n",
      "                                                                 \n",
      " max_pooling2d (MaxPooling2  (None, 349, 349, 32)      0         \n",
      " D)                                                              \n",
      "                                                                 \n",
      " conv2d_1 (Conv2D)           (None, 348, 348, 64)      8256      \n",
      "                                                                 \n",
      " max_pooling2d_1 (MaxPoolin  (None, 174, 174, 64)      0         \n",
      " g2D)                                                            \n",
      "                                                                 \n",
      " conv2d_2 (Conv2D)           (None, 172, 172, 128)     73856     \n",
      "                                                                 \n",
      " max_pooling2d_2 (MaxPoolin  (None, 86, 86, 128)       0         \n",
      " g2D)                                                            \n",
      "                                                                 \n",
      " conv2d_3 (Conv2D)           (None, 86, 86, 256)       33024     \n",
      "                                                                 \n",
      " max_pooling2d_3 (MaxPoolin  (None, 43, 43, 256)       0         \n",
      " g2D)                                                            \n",
      "                                                                 \n",
      " conv2d_4 (Conv2D)           (None, 42, 42, 256)       262400    \n",
      "                                                                 \n",
      " max_pooling2d_4 (MaxPoolin  (None, 21, 21, 256)       0         \n",
      " g2D)                                                            \n",
      "                                                                 \n",
      " flatten (Flatten)           (None, 112896)            0         \n",
      "                                                                 \n",
      " dense (Dense)               (None, 64)                7225408   \n",
      "                                                                 \n",
      " dropout (Dropout)           (None, 64)                0         \n",
      "                                                                 \n",
      " dense_1 (Dense)             (None, 1)                 65        \n",
      "                                                                 \n",
      "=================================================================\n",
      "Total params: 7603905 (29.01 MB)\n",
      "Trainable params: 7603905 (29.01 MB)\n",
      "Non-trainable params: 0 (0.00 Byte)\n",
      "_________________________________________________________________\n"
     ]
    }
   ],
   "source": [
    "model.summary()"
   ]
  },
  {
   "cell_type": "code",
   "execution_count": 3,
   "id": "9f7520ba-abe6-4f8d-bc60-e33a8532ee19",
   "metadata": {
    "tags": []
   },
   "outputs": [],
   "source": [
    "test_datagen = ImageDataGenerator(rescale=1/255)"
   ]
  },
  {
   "cell_type": "code",
   "execution_count": 4,
   "id": "9cdc0721-4a05-4527-920e-1694941659dc",
   "metadata": {
    "tags": []
   },
   "outputs": [
    {
     "name": "stdout",
     "output_type": "stream",
     "text": [
      "Found 7200 images belonging to 2 classes.\n"
     ]
    }
   ],
   "source": [
    "test_generator = test_datagen.flow_from_directory(\n",
    "    directory=config.serving_set_dir,\n",
    "    target_size=config.serving_image_size,\n",
    "    batch_size=32,\n",
    "    class_mode='binary',\n",
    "    shuffle=False\n",
    ")"
   ]
  },
  {
   "cell_type": "code",
   "execution_count": 5,
   "id": "0afd4139-4626-48bc-aeae-537b1b450461",
   "metadata": {
    "tags": []
   },
   "outputs": [
    {
     "name": "stdout",
     "output_type": "stream",
     "text": [
      "225/225 [==============================] - 810s 4s/step\n"
     ]
    }
   ],
   "source": [
    "predictions = model.predict(test_generator)\n",
    "predicted_classes = (predictions > 0.5).astype(int).flatten()"
   ]
  },
  {
   "cell_type": "code",
   "execution_count": 6,
   "id": "cd402d59-ac21-4735-9b7e-eb23000114c6",
   "metadata": {},
   "outputs": [],
   "source": [
    "true_labels = test_generator.classes"
   ]
  },
  {
   "cell_type": "code",
   "execution_count": 7,
   "id": "935d08bf-f386-4cf9-8d04-f16772d7fa69",
   "metadata": {},
   "outputs": [
    {
     "name": "stdout",
     "output_type": "stream",
     "text": [
      "Accuracy: 0.72\n"
     ]
    }
   ],
   "source": [
    "accuracy = accuracy_score(true_labels, predicted_classes)\n",
    "print(f\"Accuracy: {accuracy:.2f}\")"
   ]
  },
  {
   "cell_type": "code",
   "execution_count": 8,
   "id": "1e4e4def-f7e1-484a-965e-05c5ca9880ea",
   "metadata": {},
   "outputs": [],
   "source": [
    "cm = confusion_matrix(true_labels, predicted_classes)"
   ]
  },
  {
   "cell_type": "code",
   "execution_count": 9,
   "id": "8e2a0278-ab5b-4a1d-885a-8a706d883151",
   "metadata": {},
   "outputs": [
    {
     "data": {
      "image/png": "[encoded data removed]",
      "text/plain": [
       "<Figure size 800x600 with 2 Axes>"
      ]
     },
     "metadata": {},
     "output_type": "display_data"
    }
   ],
   "source": [
    "plt.figure(figsize=(8, 6))\n",
    "sns.heatmap(cm, annot=True, fmt='g', cmap='Greys', xticklabels=test_generator.class_indices.keys(), yticklabels=test_generator.class_indices.keys())\n",
    "plt.xlabel('Predicted')\n",
    "plt.ylabel('True')\n",
    "plt.title('Confusion Matrix')\n",
    "plt.show()"
   ]
  }
 ],
 "metadata": {
  "kernelspec": {
   "display_name": "Python 3 (ipykernel)",
   "language": "python",
   "name": "python3"
  },
  "language_info": {
   "codemirror_mode": {
    "name": "ipython",
    "version": 3
   },
   "file_extension": ".py",
   "mimetype": "text/x-python",
   "name": "python",
   "nbconvert_exporter": "python",
   "pygments_lexer": "ipython3",
   "version": "3.11.5"
  }
 },
 "nbformat": 4,
 "nbformat_minor": 5
}
