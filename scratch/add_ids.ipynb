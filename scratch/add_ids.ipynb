{
 "cells": [
  {
   "cell_type": "code",
   "execution_count": 1,
   "id": "a169f499-4119-4276-8c8d-c6f9914ebc02",
   "metadata": {
    "tags": []
   },
   "outputs": [],
   "source": [
    "import os\n",
    "import config"
   ]
  },
  {
   "cell_type": "code",
   "execution_count": 2,
   "id": "564152e3-bddc-47e1-af3d-ba4c7208d4da",
   "metadata": {
    "tags": []
   },
   "outputs": [],
   "source": [
    "def add_existing_ids_to_file(folder_path, log_file_path):\n",
    "    filenames = os.listdir(folder_path)\n",
    "\n",
    "    with open(log_file_path, 'a') as log_file:\n",
    "        for filename in filenames:\n",
    "            if filename.lower().endswith('.jpg'):\n",
    "                photo_id = filename.split('.')[0]\n",
    "                log_file.write(photo_id + '\\n')"
   ]
  },
  {
   "cell_type": "code",
   "execution_count": 3,
   "id": "1b2bcdf7-637f-4d27-89c6-d137f37f6689",
   "metadata": {
    "tags": []
   },
   "outputs": [],
   "source": [
    "folder_path = ''\n",
    "log_file_path = ''"
   ]
  },
  {
   "cell_type": "code",
   "execution_count": 4,
   "id": "bb75b905-ba91-4026-b423-1c5eb8b10566",
   "metadata": {
    "tags": []
   },
   "outputs": [],
   "source": [
    "add_existing_ids_to_file(folder_path, log_file_path)"
   ]
  }
 ],
 "metadata": {
  "kernelspec": {
   "display_name": "Python 3 (ipykernel)",
   "language": "python",
   "name": "python3"
  },
  "language_info": {
   "codemirror_mode": {
    "name": "ipython",
    "version": 3
   },
   "file_extension": ".py",
   "mimetype": "text/x-python",
   "name": "python",
   "nbconvert_exporter": "python",
   "pygments_lexer": "ipython3",
   "version": "3.11.5"
  }
 },
 "nbformat": 4,
 "nbformat_minor": 5
}
