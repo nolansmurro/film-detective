{
 "cells": [
  {
   "cell_type": "code",
   "execution_count": 1,
   "id": "20f56039-645d-4460-a9a2-d1c695df04d6",
   "metadata": {
    "tags": []
   },
   "outputs": [],
   "source": [
    "import os\n",
    "import shutil\n",
    "import random\n",
    "import config\n",
    "from PIL import Image"
   ]
  },
  {
   "cell_type": "code",
   "execution_count": 2,
   "id": "d1c45778-7c0a-4bc6-9146-aa099afc744e",
   "metadata": {
    "tags": []
   },
   "outputs": [],
   "source": [
    "# def create_subset(original_dir, target_dir, n=5000):\n",
    "#     if not os.path.exists(target_dir):\n",
    "#         os.makedirs(target_dir)\n",
    "\n",
    "#     files = os.listdir(original_dir)\n",
    "#     files = [os.path.join(original_dir, f) for f in files]\n",
    "#     random.shuffle(files)\n",
    "\n",
    "#     for f in files[:n]:\n",
    "#         shutil.copy(f, target_dir)"
   ]
  },
  {
   "cell_type": "code",
   "execution_count": 3,
   "id": "f5351bca-36ac-467d-baaa-96af7f2f19ae",
   "metadata": {
    "tags": []
   },
   "outputs": [],
   "source": [
    "def resize_and_crop_image(input_path, output_path, size):\n",
    "    with Image.open(input_path) as image:\n",
    "        target_ratio = size[0] / size[1]\n",
    "        image_ratio = image.width / image.height\n",
    "\n",
    "        # If the image aspect ratio is wider than the target, it needs to be cropped horizontally\n",
    "        if image_ratio > target_ratio:\n",
    "            new_width = int(target_ratio * image.height)\n",
    "            left = (image.width - new_width) / 2\n",
    "            top = 0\n",
    "            right = left + new_width\n",
    "            bottom = image.height\n",
    "        else:\n",
    "            # If the image aspect ratio is narrower than the target, it needs to be cropped vertically\n",
    "            new_height = int(image.width / target_ratio)\n",
    "            left = 0\n",
    "            top = (image.height - new_height) / 2\n",
    "            right = image.width\n",
    "            bottom = top + new_height\n",
    "\n",
    "        image = image.crop((left, top, right, bottom))\n",
    "        image = image.resize(size, Image.ANTIALIAS)\n",
    "\n",
    "        image.save(output_path)"
   ]
  },
  {
   "cell_type": "code",
   "execution_count": 4,
   "id": "107fe833-e155-41c3-84d1-6d934dc8ad6b",
   "metadata": {},
   "outputs": [],
   "source": [
    "def create_subset_and_resize(original_dir, target_dir, size, n):\n",
    "    if not os.path.exists(target_dir):\n",
    "        os.makedirs(target_dir)\n",
    "\n",
    "    files = os.listdir(original_dir)\n",
    "    # Filter out non-image files, especially those starting with '._'\n",
    "    image_files = [f for f in files if f.lower().endswith(('.png', '.jpg', '.jpeg')) and not f.startswith('._')]\n",
    "    random.shuffle(image_files)\n",
    "\n",
    "    for f in image_files[:n]:\n",
    "        input_path = os.path.join(original_dir, f)\n",
    "        output_path = os.path.join(target_dir, f)\n",
    "        try:\n",
    "            resize_and_crop_image(input_path, output_path, size)\n",
    "        except Exception as e:\n",
    "            print(f\"Error processing {input_path}: {e}\")"
   ]
  },
  {
   "cell_type": "code",
   "execution_count": 6,
   "id": "94bfdc70-06e6-4d1c-befe-50d126a2a713",
   "metadata": {
    "tags": []
   },
   "outputs": [],
   "source": [
    "size = (600, 600)\n",
    "create_subset_and_resize(config.subset_original_dir_film, config.subset_target_dir_film, size, 9900)\n",
    "create_subset_and_resize(config.subset_original_dir_digital, config.subset_target_dir_digital, size, 9900)"
   ]
  },
  {
   "cell_type": "code",
   "execution_count": null,
   "id": "a2ef63da-1219-43f7-82b3-73a97474c628",
   "metadata": {
    "tags": []
   },
   "outputs": [],
   "source": [
    "# def resize_and_crop_directory(source_directory, target_directory, size):\n",
    "#     if not os.path.exists(target_directory):\n",
    "#         os.makedirs(target_directory)\n",
    "\n",
    "#     for filename in os.listdir(source_directory):\n",
    "#         if filename.lower().endswith(('.png', '.jpg', '.jpeg')):\n",
    "#             input_path = os.path.join(source_directory, filename)\n",
    "#             output_path = os.path.join(target_directory, filename)\n",
    "#             resize_and_crop_image(input_path, output_path, size)"
   ]
  },
  {
   "cell_type": "code",
   "execution_count": null,
   "id": "d1b67b68-0bd7-45b5-b5c4-31224eaf4ac7",
   "metadata": {
    "tags": []
   },
   "outputs": [],
   "source": [
    "# resize_and_crop_directory(config.subset_crop_original_dir_film, congif.subset_crop_target_dir_film, (300, 300))\n",
    "# resize_and_crop_directory(config.subset_crop_original_dir_digital, congif.subset_crop_target_dir_digital, (300, 300))"
   ]
  },
  {
   "cell_type": "code",
   "execution_count": null,
   "id": "f8a86e25-4636-438f-b8ef-6df730d2d0da",
   "metadata": {
    "tags": []
   },
   "outputs": [],
   "source": [
    "def create_train_test_split(source_folder, train_test_base_folder, category, split_ratio=0.8):\n",
    "    train_folder = os.path.join(train_test_base_folder, 'train', category)\n",
    "    test_folder = os.path.join(train_test_base_folder, 'test', category)\n",
    "\n",
    "    os.makedirs(train_folder, exist_ok=True)\n",
    "    os.makedirs(test_folder, exist_ok=True)\n",
    "\n",
    "    filenames = [f for f in os.listdir(source_folder) if f.lower().endswith(('.png', '.jpg', '.jpeg'))]\n",
    "    random.shuffle(filenames)  # Shuffle the list of files for random splitting\n",
    "\n",
    "    split_index = int(len(filenames) * split_ratio)\n",
    "\n",
    "    train_filenames = filenames[:split_index]\n",
    "    test_filenames = filenames[split_index:]\n",
    "\n",
    "    for filename in train_filenames:\n",
    "        shutil.copy(os.path.join(source_folder, filename), train_folder)\n",
    "    for filename in test_filenames:\n",
    "        shutil.copy(os.path.join(source_folder, filename), test_folder)\n"
   ]
  },
  {
   "cell_type": "code",
   "execution_count": null,
   "id": "419982eb-d048-4bc3-bce6-043cec980910",
   "metadata": {
    "tags": []
   },
   "outputs": [],
   "source": [
    "create_train_test_split(config.tts_source_film, config.tts_base_folder, 'film')\n",
    "create_train_test_split(config.tts_source_digital, config.tts_base_folder, 'digital')"
   ]
  },
  {
   "cell_type": "code",
   "execution_count": null,
   "id": "fbc8d169-a916-4086-a0c8-05e66402ad18",
   "metadata": {},
   "outputs": [],
   "source": [
    "def process_images(source_dir_film, target_dir"
   ]
  }
 ],
 "metadata": {
  "kernelspec": {
   "display_name": "Python 3 (ipykernel)",
   "language": "python",
   "name": "python3"
  },
  "language_info": {
   "codemirror_mode": {
    "name": "ipython",
    "version": 3
   },
   "file_extension": ".py",
   "mimetype": "text/x-python",
   "name": "python",
   "nbconvert_exporter": "python",
   "pygments_lexer": "ipython3",
   "version": "3.11.5"
  }
 },
 "nbformat": 4,
 "nbformat_minor": 5
}
